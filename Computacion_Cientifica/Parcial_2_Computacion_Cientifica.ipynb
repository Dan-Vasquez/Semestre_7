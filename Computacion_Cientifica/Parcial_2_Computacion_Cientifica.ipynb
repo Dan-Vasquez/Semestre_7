{
  "nbformat": 4,
  "nbformat_minor": 0,
  "metadata": {
    "colab": {
      "provenance": []
    },
    "kernelspec": {
      "name": "python3",
      "display_name": "Python 3"
    },
    "language_info": {
      "name": "python"
    }
  },
  "cells": [
    {
      "cell_type": "markdown",
      "source": [
        "#Nombre: Daniel Andres Vasquez Murillo"
      ],
      "metadata": {
        "id": "v5uSdBSAJS0v"
      }
    },
    {
      "cell_type": "markdown",
      "source": [
        "# Librerias"
      ],
      "metadata": {
        "id": "RWuQ5GAI692S"
      }
    },
    {
      "cell_type": "code",
      "execution_count": null,
      "metadata": {
        "id": "jIPlZb0g6zmS"
      },
      "outputs": [],
      "source": [
        "import math\n",
        "import numpy as np\n",
        "import sympy as sp\n",
        "import matplotlib.pyplot as plt\n",
        "from scipy.optimize import fsolve, minimize\n",
        "import copy\n",
        "import scipy.linalg as la"
      ]
    },
    {
      "cell_type": "markdown",
      "source": [
        "# Codigo"
      ],
      "metadata": {
        "id": "kgLHzQRN7A2D"
      }
    },
    {
      "cell_type": "markdown",
      "source": [
        "### Punto 3"
      ],
      "metadata": {
        "id": "5SkGyqSY7DXr"
      }
    },
    {
      "cell_type": "code",
      "source": [
        "# Contruccion de la matriz\n",
        "\n",
        "def contructor_matriz(n):\n",
        "  A = np.zeros((n,n))\n",
        "  for i in range(n):\n",
        "    A[i,:i+1] = n - (i)\n",
        "    for j in range(i+1, n):\n",
        "      A[i,j] = n - j\n",
        "  return A\n",
        "\n",
        "n = 5\n",
        "A = contructor_matriz(n)\n",
        "print(\"Matriz n =\", n)\n",
        "print(\"\")\n",
        "print(A)\n",
        "print(\"\")\n",
        "\n",
        "# Funcion de los valores propios\n",
        "\n",
        "def valores_propios(n):\n",
        "  valores = []\n",
        "  for i in range(n+1):\n",
        "    if 1 <= i and i <= n:\n",
        "       valores.append((1/(2-(2*np.cos(((2*i-1)*np.pi)/(2*n+1))))))\n",
        "  return valores\n",
        "\n",
        "print(\"Valores propios de la matriz mediante la funcion\\n\\n\", valores_propios(n))\n",
        "\n",
        "print(\"\")\n",
        "\n",
        "print(\"Valores propios de la matriz mediante linalg \\n\\n\", np.linalg.eig(A)[0])"
      ],
      "metadata": {
        "colab": {
          "base_uri": "https://localhost:8080/"
        },
        "id": "5wKtsTzp7AcL",
        "outputId": "b24473dc-09d5-4f36-ba6d-296a4153b533"
      },
      "execution_count": null,
      "outputs": [
        {
          "output_type": "stream",
          "name": "stdout",
          "text": [
            "Matriz n = 5\n",
            "\n",
            "[[5. 4. 3. 2. 1.]\n",
            " [4. 4. 3. 2. 1.]\n",
            " [3. 3. 3. 2. 1.]\n",
            " [2. 2. 2. 2. 1.]\n",
            " [1. 1. 1. 1. 1.]]\n",
            "\n",
            "Valores propios de la matriz mediante la funcion\n",
            "\n",
            " [12.343537519677051, 1.4486905697966428, 0.5829644982937404, 0.3532532828937386, 0.2715541293388212]\n",
            "\n",
            "Valores propios de la matriz mediante linalg \n",
            "\n",
            " [12.34353752  1.44869057  0.5829645   0.35325328  0.27155413]\n"
          ]
        }
      ]
    },
    {
      "cell_type": "markdown",
      "source": [
        "### Punto 4"
      ],
      "metadata": {
        "id": "sIXZnW_4DUR1"
      }
    },
    {
      "cell_type": "code",
      "source": [
        "def mat_new(x, y):\n",
        "    n = len(x)\n",
        "    L = np.zeros((n, n))\n",
        "    L[:, 0] = np.ones((1, n))\n",
        "    for j in range(1, n):\n",
        "        for i in range(j, n):\n",
        "            pro = 1\n",
        "            for k in range(0, j):\n",
        "                pro = pro * (x[i] - x[k])\n",
        "            L[i, j] = pro\n",
        "    c = np.linalg.solve(L, y)\n",
        "    return L, c\n",
        "\n",
        "def poli_new(x, c, x_var):\n",
        "    n = len(c)\n",
        "    result = c[0]\n",
        "    for i in range(1, n):\n",
        "        term = c[i]\n",
        "        for j in range(i):\n",
        "            term *= (x_var - x[j])\n",
        "        result += term\n",
        "    return result\n",
        "\n",
        "x = np.array([10, 20, 30, 40, 80], float)\n",
        "y = np.array([25, 70, 380, 550, 1450], float)\n",
        "[L, c] = mat_new(x, y)\n",
        "\n",
        "x_interp = np.linspace(0, 100, 100)\n",
        "y_interp = poli_new(x, c, x_interp)\n",
        "\n",
        "plt.figure(figsize=[4, 4])\n",
        "plt.plot(x, y, 'b*', label='Datos')\n",
        "plt.plot(35, poli_new(x, c, 35), 'g*', label=f'p(35m/s) = {poli_new(x, c, 35)}' )\n",
        "plt.plot(x_interp, y_interp, 'r', label='Interpolación de Newton')\n",
        "plt.xlabel('x')\n",
        "plt.ylabel('y')\n",
        "plt.legend()\n",
        "plt.grid()\n",
        "plt.show()\n",
        "\n",
        "print(f'p(35m/s) = {poli_new(x, c, 35)}')"
      ],
      "metadata": {
        "colab": {
          "base_uri": "https://localhost:8080/",
          "height": 406
        },
        "id": "yE04UkZxDWGt",
        "outputId": "eef976db-18c0-4d97-8a2b-fcb2a3269396"
      },
      "execution_count": null,
      "outputs": [
        {
          "output_type": "display_data",
          "data": {
            "text/plain": [
              "<Figure size 400x400 with 1 Axes>"
            ],
            "image/png": "[encoded data removed]"
          },
          "metadata": {}
        },
        {
          "output_type": "stream",
          "name": "stdout",
          "text": [
            "p(35m/s) = 496.9642857142853\n"
          ]
        }
      ]
    }
  ]
}