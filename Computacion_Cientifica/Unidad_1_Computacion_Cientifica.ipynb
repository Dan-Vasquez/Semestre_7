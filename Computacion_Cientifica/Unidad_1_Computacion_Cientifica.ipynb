{
  "nbformat": 4,
  "nbformat_minor": 0,
  "metadata": {
    "colab": {
      "provenance": []
    },
    "kernelspec": {
      "name": "python3",
      "display_name": "Python 3"
    },
    "language_info": {
      "name": "python"
    }
  },
  "cells": [
    {
      "cell_type": "markdown",
      "source": [
        "24/01/23"
      ],
      "metadata": {
        "id": "LhWkMybEaofX"
      }
    },
    {
      "cell_type": "code",
      "source": [
        "# Paquetes\n",
        "import math\n",
        "import numpy as np\n",
        "import matplotlib.pyplot as plt"
      ],
      "metadata": {
        "id": "Gflhf2AhhAXW"
      },
      "execution_count": null,
      "outputs": []
    },
    {
      "cell_type": "code",
      "source": [
        "\n",
        "\n",
        "# usar f', .format, para el print (opcional)\n",
        "\n",
        "\"\"\"\n",
        "math.pi\n",
        "math.e\n",
        "math.factorial(numero)\n",
        "math.ceil()\n",
        "math.floor()\n",
        "math.sin()\n",
        "math.cos()\n",
        "math.tan()\n",
        "math.asin()\n",
        "math.acos()\n",
        "math.atan()\n",
        "math.sinh()\n",
        "math.cosh()\n",
        "math.tanh()\n",
        "math.exp()\n",
        "math.log()\n",
        "math.sqrt()\n",
        "\"\"\"\n",
        "#______________________________\n",
        "\n",
        "#Actividad 1\n",
        "\n",
        "z = 4\n",
        "\n",
        "print(\"1.\", (z**2 + 13) / math.sqrt(z + 2))\n",
        "\n",
        "print(\"2.\", (math.sin(z + 3) - math.cos(z**2))*z)\n",
        "\n",
        "#______________________________\n",
        "\n",
        "print( \"matriz1 = \", np.array([[2.0,-1.0],[-1.0, 3.0]]))\n",
        "\n",
        "matriz = np.array([[4,3],[1,2],[3,0],[-5,math.e]], float)\n",
        "print(\"matriz2 = \", matriz)\n",
        "print(\"matriz2 = \", np.shape(matriz)) # num filas y columnas\n",
        "print(\"matriz2 = \", matriz[0,0])\n",
        "\n",
        "\"\"\"\n",
        "np.zeros((3,3)) \"\" \"\" \"\" \"\"  zeros\n",
        "np.ones((3,3)) matriz 3x3 de unos\n",
        "np.transpose(b) crear transpuesta\n",
        "np.linalg.det(np.array([[1,2],[3,0]])) determinante matriz\n",
        "np.linalg.inv(np.array([[1,2],[3,0]])) inversa de una matriz\n",
        "np.eye(3) matriz indentidad\n",
        "\n",
        "x[i,:] fila i\n",
        "x[:,i] columna i\n",
        "X[i,j] elemento en i , j\n",
        "x[i,-1] elemento en la fila i y ultima columna\n",
        "x[f_i: f_f + 1: p, c_i : cf + 1 : p] submatriz\n",
        "\n",
        "\"\"\"\n",
        "a = 4\n"
      ],
      "metadata": {
        "id": "tnIkW1QKauW0",
        "colab": {
          "base_uri": "https://localhost:8080/"
        },
        "outputId": "f65ef168-7572-4269-fb50-391eca5ff2e7"
      },
      "execution_count": null,
      "outputs": [
        {
          "output_type": "stream",
          "name": "stdout",
          "text": [
            "1. 11.839200423452029\n",
            "2. 6.458584316168695\n",
            "matriz1 =  [[ 2. -1.]\n",
            " [-1.  3.]]\n",
            "matriz2 =  [[ 4.          3.        ]\n",
            " [ 1.          2.        ]\n",
            " [ 3.          0.        ]\n",
            " [-5.          2.71828183]]\n",
            "matriz2 =  (4, 2)\n",
            "matriz2 =  4.0\n"
          ]
        }
      ]
    },
    {
      "cell_type": "code",
      "source": [
        "A = np.array( [ [4,1,3,2],[5,math.e,-3,4],[1,0,0,3] ], float )\n",
        "B = A[0:3:1,0:3:2]\n",
        "print(B)"
      ],
      "metadata": {
        "id": "27TTBi-3jq_B",
        "colab": {
          "base_uri": "https://localhost:8080/"
        },
        "outputId": "ceb23151-8add-4897-a133-1b339590f848"
      },
      "execution_count": null,
      "outputs": [
        {
          "output_type": "stream",
          "name": "stdout",
          "text": [
            "[[ 4.  3.]\n",
            " [ 5. -3.]\n",
            " [ 1.  0.]]\n"
          ]
        }
      ]
    },
    {
      "cell_type": "code",
      "source": [
        "\"\"\"\n",
        "La suma y resta se hacen con matrices del mismo tamaño\n",
        "producto: np.matmul(mat1,mat2) or mat1.dot(mat2)\n",
        "potencia de una matirz: np.linalg.matrix_power(mat1, potencia)\n",
        "\"\"\"\n",
        "\n",
        "A[1,1] = 2\n",
        "A[ : , 0 ] = 0 # np.zero((3,))\n",
        "\n",
        "print(A)\n",
        "\n",
        "A = np.array( [ [3,2], [-1,4] ], float )\n",
        "B = np.array( [ [2,1], [3,-5] ], float )\n",
        "print(A.dot(B))\n",
        "print(2*A)"
      ],
      "metadata": {
        "id": "Fe7niMGpl2af",
        "colab": {
          "base_uri": "https://localhost:8080/"
        },
        "outputId": "c8351a7d-60bd-4c88-d533-096f98ae3ecf"
      },
      "execution_count": null,
      "outputs": [
        {
          "output_type": "stream",
          "name": "stdout",
          "text": [
            "[[ 0.  1.  3.  2.]\n",
            " [ 0.  2. -3.  4.]\n",
            " [ 0.  0.  0.  3.]]\n",
            "[[ 12.  -7.]\n",
            " [ 10. -21.]]\n",
            "[[ 6.  4.]\n",
            " [-2.  8.]]\n"
          ]
        }
      ]
    },
    {
      "cell_type": "code",
      "source": [
        "#Ejercicio 2\n",
        "\n",
        "A = np.random.randint( 10, size = (5,5) )\n",
        "B = np.random.randint( 10, size = (5,5) )\n",
        "\n",
        "print( np.linalg.matrix_power(A.dot(B), 3) )\n",
        "print( (A*B)**3 )\n",
        "\n",
        "print( A[4,:].dot(B[:,2]) )\n"
      ],
      "metadata": {
        "id": "yFyIY12FuciF",
        "colab": {
          "base_uri": "https://localhost:8080/"
        },
        "outputId": "6f60868c-8eaf-4fb3-8181-8963f7aa8fe6"
      },
      "execution_count": null,
      "outputs": [
        {
          "output_type": "stream",
          "name": "stdout",
          "text": [
            "[[42674607 56208565 53964266 53478306 43242210]\n",
            " [56745584 74738328 71760724 71096672 57494332]\n",
            " [46093464 60703411 58276013 57724052 46685184]\n",
            " [45217226 59557383 57199042 56670515 45827386]\n",
            " [39447104 51952869 49865527 49408073 39954485]]\n",
            "[[   512  13824   9261  64000  19683]\n",
            " [   216    512 175616  64000 250047]\n",
            " [  5832 175616   5832  91125      0]\n",
            " [  5832    729      0 175616 250047]\n",
            " [ 32768   8000    216      0   1728]]\n",
            "136\n"
          ]
        }
      ]
    },
    {
      "cell_type": "code",
      "source": [
        "#Ejercicio 3\n",
        "A = np.array( [[3], [4], [1/2]], float )\n",
        "B = np.array( [[2,3,4]], float )\n",
        "C = np.ones((3,3))\n",
        "C[0,:] = np.transpose(A)\n",
        "C[2,:] = B\n",
        "print(C)"
      ],
      "metadata": {
        "id": "2_WQjwL5yKZ3",
        "colab": {
          "base_uri": "https://localhost:8080/"
        },
        "outputId": "c8525ce7-0d4b-48a1-a718-96e7794b60a3"
      },
      "execution_count": null,
      "outputs": [
        {
          "output_type": "stream",
          "name": "stdout",
          "text": [
            "[[3.  4.  0.5]\n",
            " [1.  1.  1. ]\n",
            " [2.  3.  4. ]]\n"
          ]
        }
      ]
    },
    {
      "cell_type": "code",
      "source": [
        "def fun(X):\n",
        "  return np.cos(X)/np.exp(X)\n",
        "print(fun(A))"
      ],
      "metadata": {
        "id": "75lSdcJC2D7M",
        "colab": {
          "base_uri": "https://localhost:8080/"
        },
        "outputId": "9e6f944b-2397-432f-e4fc-1d0cc6829d62"
      },
      "execution_count": null,
      "outputs": [
        {
          "output_type": "stream",
          "name": "stdout",
          "text": [
            "[[-0.04928882]\n",
            " [-0.0119719 ]\n",
            " [ 0.53228073]]\n"
          ]
        }
      ]
    },
    {
      "cell_type": "code",
      "source": [
        "su = 0\n",
        "for i in range( 1, 11, 1 ):\n",
        "  su = su + i**2 / (math.sin(i))\n",
        "print(su)\n",
        "\n",
        "su = 0\n",
        "for i in range( 3, 11, 1 ):\n",
        "  su = su + i**2 / 2\n",
        "print(su)"
      ],
      "metadata": {
        "id": "pajC24TC45Yz",
        "colab": {
          "base_uri": "https://localhost:8080/"
        },
        "outputId": "42ac0432-d585-42b8-c2ca-16206fb30cef"
      },
      "execution_count": null,
      "outputs": [
        {
          "output_type": "stream",
          "name": "stdout",
          "text": [
            "45.31043106914666\n",
            "190.0\n"
          ]
        }
      ]
    },
    {
      "cell_type": "code",
      "source": [
        "def f(x):\n",
        "  y = math.cos(x)/math.exp(x)\n",
        "  return(y)\n",
        "x = np.array([-1,0,1,2,3])\n",
        "y = np.zeros(np.shape(x))\n",
        "for i in range(0,np.shape(x)[0],1):\n",
        "  y[i] = f(x[i])\n",
        "print(y)\n",
        "print(np.shape(x))"
      ],
      "metadata": {
        "id": "uvJfHiaiQvoK",
        "colab": {
          "base_uri": "https://localhost:8080/"
        },
        "outputId": "ee8b5770-76e5-443c-fea5-e672d256cb7a"
      },
      "execution_count": null,
      "outputs": [
        {
          "output_type": "stream",
          "name": "stdout",
          "text": [
            "[ 1.46869394  1.          0.19876611 -0.05631935 -0.04928882]\n",
            "(5,)\n"
          ]
        }
      ]
    },
    {
      "cell_type": "code",
      "source": [
        "i = 1\n",
        "su = 0\n",
        "while i <= 10:\n",
        "  su = su + i ** 2/ math.sin(i)\n",
        "  i += 1\n",
        "print(su)"
      ],
      "metadata": {
        "id": "5H8u4reASFmZ",
        "colab": {
          "base_uri": "https://localhost:8080/"
        },
        "outputId": "8d0efa87-e1d1-47fb-fd1c-1a521c0c0c81"
      },
      "execution_count": null,
      "outputs": [
        {
          "output_type": "stream",
          "name": "stdout",
          "text": [
            "45.31043106914666\n"
          ]
        }
      ]
    },
    {
      "cell_type": "code",
      "source": [
        "def productoria(n, m):\n",
        "  pro = 1\n",
        "  i = n\n",
        "  while i <= m:\n",
        "    pro = pro * (i ** 2 + 2)\n",
        "    i += 1\n",
        "  return pro\n",
        "print(productoria(1,2))"
      ],
      "metadata": {
        "id": "zdPNZKOGUDmf",
        "colab": {
          "base_uri": "https://localhost:8080/"
        },
        "outputId": "9436ffdb-b625-4aa7-ac1d-8eb18805214a"
      },
      "execution_count": null,
      "outputs": [
        {
          "output_type": "stream",
          "name": "stdout",
          "text": [
            "18\n"
          ]
        }
      ]
    },
    {
      "cell_type": "code",
      "source": [
        "# g(x)= [x**2 - 3] en todos los valores del vector x = np.linspace(-2,5,50) (Realiza una particion del intervalo [-2, 5] con 50 puntos o 49 particiones)"
      ],
      "metadata": {
        "id": "1fuQuYkdVjlH"
      },
      "execution_count": null,
      "outputs": []
    },
    {
      "cell_type": "code",
      "source": [
        "def f(x):\n",
        "  return np.abs(x**2 - 3)\n",
        "x = np.linspace(-2,5,3)\n",
        "print(x) # Dominio discreto\n",
        "print(f(x)) # Recorrido"
      ],
      "metadata": {
        "id": "TwC01BoBVzfW",
        "colab": {
          "base_uri": "https://localhost:8080/"
        },
        "outputId": "2677809d-bc1a-4de4-8e68-ea9ab40fdd3a"
      },
      "execution_count": null,
      "outputs": [
        {
          "output_type": "stream",
          "name": "stdout",
          "text": [
            "[-2.   1.5  5. ]\n",
            "[ 1.    0.75 22.  ]\n"
          ]
        }
      ]
    },
    {
      "cell_type": "code",
      "source": [
        "def f(x,n):\n",
        "  asn = None\n",
        "  if x < -3:\n",
        "    x = np.linspace(x, -3, n)\n",
        "    ans = np.abs(np.cos(x)/np.e**x)\n",
        "  elif -3 <= x and x < 5:\n",
        "    ans = 3\n",
        "  else:\n",
        "    x = np.linspace(5, x, n)\n",
        "    ans = np.abs(x ** 2 + 1)\n",
        "  return ans\n",
        "print(f(-5,5))"
      ],
      "metadata": {
        "id": "PxHYjS7tYHEM",
        "colab": {
          "base_uri": "https://localhost:8080/"
        },
        "outputId": "23b05e35-7be3-4470-ba07-43e5ff45add9"
      },
      "execution_count": null,
      "outputs": [
        {
          "output_type": "stream",
          "name": "stdout",
          "text": [
            "[42.09920106 18.97523315 35.68773248 31.01118644 19.88453084]\n"
          ]
        }
      ]
    },
    {
      "cell_type": "code",
      "source": [
        "def f(x,y,n):\n",
        "  k = np.linspace(x, y, n)\n",
        "  ans = np.zeros((1,n))\n",
        "  print(ans)\n",
        "  for i in range(n):\n",
        "    if k[i] < -3:\n",
        "      ans[0,i] = math.cos(k[i])/math.e**k[i]\n",
        "    elif -3 >= k[i] and k[i] < 5:\n",
        "      ans[0,i] = 3\n",
        "    else:\n",
        "      ans[0,i] = (k[i] ** 2 + 1)\n",
        "  return ans\n",
        "print(f(-4,6,100))"
      ],
      "metadata": {
        "id": "i4BZVIMQbWFQ",
        "colab": {
          "base_uri": "https://localhost:8080/"
        },
        "outputId": "1e5074e9-595f-4bd9-aff9-a19a235557ea"
      },
      "execution_count": null,
      "outputs": [
        {
          "output_type": "stream",
          "name": "stdout",
          "text": [
            "[[0. 0. 0. 0. 0. 0. 0. 0. 0. 0. 0. 0. 0. 0. 0. 0. 0. 0. 0. 0. 0. 0. 0. 0.\n",
            "  0. 0. 0. 0. 0. 0. 0. 0. 0. 0. 0. 0. 0. 0. 0. 0. 0. 0. 0. 0. 0. 0. 0. 0.\n",
            "  0. 0. 0. 0. 0. 0. 0. 0. 0. 0. 0. 0. 0. 0. 0. 0. 0. 0. 0. 0. 0. 0. 0. 0.\n",
            "  0. 0. 0. 0. 0. 0. 0. 0. 0. 0. 0. 0. 0. 0. 0. 0. 0. 0. 0. 0. 0. 0. 0. 0.\n",
            "  0. 0. 0. 0.]]\n",
            "[[-35.68773248 -35.86089452 -35.34090758 -34.264155   -32.75234253\n",
            "  -30.91293822 -28.83979451 -26.61390766 -24.30427539 -21.96881898\n",
            "    9.93949597   9.34567901   8.77226814   8.21926334   7.68666463\n",
            "    7.17447199   6.68268544   6.21130497   5.76033058   5.32976227\n",
            "    4.91960004   4.52984389   4.16049383   3.81154984   3.48301194\n",
            "    3.17488011   2.88715437   2.61983471   2.37292113   2.14641363\n",
            "    1.94031221   1.75461688   1.58932762   1.44444444   1.31996735\n",
            "    1.21589634   1.1322314    1.06897255   1.02611978   1.00367309\n",
            "    1.00163249   1.01999796   1.05876951   1.11794715   1.19753086\n",
            "    1.29752066   1.41791654   1.5587185    1.71992654   1.90154066\n",
            "    2.10356086   2.32598714   2.56881951   2.83205795   3.11570248\n",
            "    3.41975309   3.74420977   4.08907254   4.45434139   4.84001632\n",
            "    5.24609734   5.67258443   6.1194776    6.58677686   7.0744822\n",
            "    7.58259361   8.11111111   8.66003469   9.22936435   9.81910009\n",
            "   10.42924191  11.05978982  11.7107438   12.38210387  13.07387001\n",
            "   13.78604224  14.51862055  15.27160494  16.04499541  16.83879196\n",
            "   17.65299459  18.48760331  19.3426181   20.21803898  21.11386593\n",
            "   22.03009897  22.96673809  23.92378329  24.90123457  25.89909193\n",
            "   26.91735537  27.9560249   29.0151005   30.09458219  31.19446995\n",
            "   32.3147638   33.45546373  34.61656974  35.79808183  37.        ]]\n"
          ]
        }
      ]
    },
    {
      "cell_type": "code",
      "source": [
        "# Otro ejercicio\n",
        "\n",
        "def mayordetres(a,b,c):\n",
        "  mayor = float(\"-inf\")\n",
        "  for i in range(3):\n",
        "    if i == 0:\n",
        "      if a > mayor: mayor = a\n",
        "    if i == 1:\n",
        "      if b > mayor: mayor = b\n",
        "    else:\n",
        "      if c > mayor: mayor = c\n",
        "\n",
        "def mayordevector(x):\n",
        "  ans = float(\"-inf\")\n",
        "  posiciones = []\n",
        "  for i in x[0]:\n",
        "    if i > ans: ans = i\n",
        "  for i in range(np.shape(x[0])[0]):\n",
        "    if x[0][i] == ans:\n",
        "      posiciones.append(i)\n",
        "  return ans, posiciones\n",
        "#print(mayordevector(np.array([[1,2,3,4,5,5,5,3]])))\n",
        "\n",
        "def mayor_mat(A):\n",
        "  mayor = A[0,0]\n",
        "  posicion = [[0,0]]\n",
        "  [f,c] = np.shape(A)\n",
        "  for i in range(0,f,1):\n",
        "    for j in range(0,c,1):\n",
        "      if mayor < A[i, j]:\n",
        "        mayor = A[i,j]\n",
        "        posicion = [[i, j]]\n",
        "      elif mayor == A[i,j]:\n",
        "        posicion.append([i,j])\n",
        "  return mayor, posicion\n",
        "A = np.array([[2,3,5],[-3,5,4]])\n",
        "print(mayor_mat(A))"
      ],
      "metadata": {
        "id": "NrGLXQdGdqli",
        "colab": {
          "base_uri": "https://localhost:8080/"
        },
        "outputId": "a91c2af5-15d4-4ae5-aa62-5be44dfc3a7b"
      },
      "execution_count": null,
      "outputs": [
        {
          "output_type": "stream",
          "name": "stdout",
          "text": [
            "(5, [[0, 2], [1, 1]])\n"
          ]
        }
      ]
    },
    {
      "cell_type": "code",
      "source": [
        "#graficar matplotlib\n",
        "\n",
        "fig, ax = plt.subplots()\n",
        "ax.plot([-2,0,4,1,-2],[1,4,2,3,1])\n",
        "\n",
        "ax.plot([1,2,3,2,1],[1,3,2,1,1])\n",
        "\n",
        "plt.figure( figsize = [3,3], facecolor = \"white\" ) # sin ejes\n",
        "plt.plot([1,2,3,2,1],[1,3,2,1,1])\n",
        "\n",
        "plt.subplots() # ejes simples\n",
        "\n",
        "#fig, ax = plt.subplots( n, m ) # cuadricula n x m\n",
        "\n"
      ],
      "metadata": {
        "id": "8eWCUGs2kkFk",
        "colab": {
          "base_uri": "https://localhost:8080/",
          "height": 1000
        },
        "outputId": "c1f9c47b-8a1c-49ee-ca2c-be2d88445635"
      },
      "execution_count": null,
      "outputs": [
        {
          "output_type": "execute_result",
          "data": {
            "text/plain": [
              "(<Figure size 640x480 with 1 Axes>, <Axes: >)"
            ]
          },
          "metadata": {},
          "execution_count": 18
        },
        {
          "output_type": "display_data",
          "data": {
            "text/plain": [
              "<Figure size 640x480 with 1 Axes>"
            ],
            "image/png": "[encoded data removed]"
          },
          "metadata": {}
        },
        {
          "output_type": "display_data",
          "data": {
            "text/plain": [
              "<Figure size 300x300 with 1 Axes>"
            ],
            "image/png": "[encoded data removed]"
          },
          "metadata": {}
        },
        {
          "output_type": "display_data",
          "data": {
            "text/plain": [
              "<Figure size 640x480 with 1 Axes>"
            ],
            "image/png": "[encoded data removed]"
          },
          "metadata": {}
        }
      ]
    },
    {
      "cell_type": "code",
      "source": [
        "plt.figure( figsize = [5,5], facecolor = \"red\" ) # sin ejes\n",
        "plt.plot([1,2,3,2,1],[1,3,2,1,1], label = \"poligono\", linestyle= \"dashed\", linewidth = 5, color = \"y\")\n",
        "plt.xlabel(\"componentes de x\", fontsize = 10)\n",
        "plt.ylabel(\"componentes de y\", fontsize = 6)\n",
        "plt.title(\"Grafica de poligono\", fontsize = 6, loc = \"left\")"
      ],
      "metadata": {
        "id": "HKQ71qVhmrED",
        "colab": {
          "base_uri": "https://localhost:8080/",
          "height": 498
        },
        "outputId": "ba570303-6fa5-4460-efc2-5284ded21d69"
      },
      "execution_count": null,
      "outputs": [
        {
          "output_type": "execute_result",
          "data": {
            "text/plain": [
              "Text(0.0, 1.0, 'Grafica de poligono')"
            ]
          },
          "metadata": {},
          "execution_count": 19
        },
        {
          "output_type": "display_data",
          "data": {
            "text/plain": [
              "<Figure size 500x500 with 1 Axes>"
            ],
            "image/png": "[encoded data removed]"
          },
          "metadata": {}
        }
      ]
    },
    {
      "cell_type": "code",
      "source": [
        "def f(x):\n",
        "  return x**2 + 2 * x + 1\n",
        "x = np.linspace(-2,3,100)\n",
        "y = f(x)\n",
        "plt.figure( figsize = [4,4], facecolor = \"red\" ) # sin ejes\n",
        "plt.plot(x,y, label = \"Funcion cuadratica\")\n",
        "plt.grid()\n",
        "plt.xlabel(\"Eje x\", fontsize = 6)\n",
        "plt.ylabel(\"Eje y\", fontsize = 6)\n",
        "plt.legend(title_fontsize = 6, loc = \"upper left\")\n",
        "plt.title(\"Grafica funcion\", fontsize = 8, loc = \"left\")"
      ],
      "metadata": {
        "id": "nt_yNiGOq7T9",
        "colab": {
          "base_uri": "https://localhost:8080/",
          "height": 417
        },
        "outputId": "78c8c7f2-6b47-4747-d717-335887f2a77f"
      },
      "execution_count": null,
      "outputs": [
        {
          "output_type": "execute_result",
          "data": {
            "text/plain": [
              "Text(0.0, 1.0, 'Grafica funcion')"
            ]
          },
          "metadata": {},
          "execution_count": 20
        },
        {
          "output_type": "display_data",
          "data": {
            "text/plain": [
              "<Figure size 400x400 with 1 Axes>"
            ],
            "image/png": "[encoded data removed]"
          },
          "metadata": {}
        }
      ]
    },
    {
      "cell_type": "code",
      "source": [
        "def f(x):\n",
        "  return x**2 + 2 * x + 1\n",
        "x = np.linspace(-2,3,100)\n",
        "y = f(x)\n",
        "plt.figure( figsize = [4,4], facecolor = \"red\" ) # sin ejes\n",
        "plt.plot(x,y, label = \"Funcion cuadratica\")\n",
        "plt.plot(-1,0, \"r*\", label = \"Minimo\")\n",
        "plt.xlim(-1.2, -0.8)\n",
        "plt.ylim(-0.2, 0.2)\n",
        "plt.grid()\n",
        "plt.xlabel(\"Eje x\", fontsize = 6)\n",
        "plt.ylabel(\"Eje y\", fontsize = 6)\n",
        "plt.legend(title_fontsize = 6, loc = \"upper left\")\n",
        "plt.title(\"Grafica funcion\", fontsize = 8, loc = \"left\")"
      ],
      "metadata": {
        "id": "Idr7KUfdsQMW",
        "colab": {
          "base_uri": "https://localhost:8080/",
          "height": 417
        },
        "outputId": "59e41ca1-2787-4c13-beb5-3a8b80684009"
      },
      "execution_count": null,
      "outputs": [
        {
          "output_type": "execute_result",
          "data": {
            "text/plain": [
              "Text(0.0, 1.0, 'Grafica funcion')"
            ]
          },
          "metadata": {},
          "execution_count": 21
        },
        {
          "output_type": "display_data",
          "data": {
            "text/plain": [
              "<Figure size 400x400 with 1 Axes>"
            ],
            "image/png": "[encoded data removed]"
          },
          "metadata": {}
        }
      ]
    },
    {
      "cell_type": "code",
      "source": [
        "def f(x):\n",
        "  return x**2 + 2 * x + 1\n",
        "x = np.linspace(-2,3,100)\n",
        "y = f(x)\n",
        "fig, axs = plt.subplots(2,2, figsize = [9,9])\n",
        "axs[0, 0].plot(x, y, label = \"Funcion cuadratica\")\n",
        "axs[0, 1].plot(x, y, label = \"Funcion suadratica\")\n",
        "axs[0, 1].set_xlim(-1.2, -0.8)\n",
        "axs[0, 1].set_ylim(-0.2, 0.2)"
      ],
      "metadata": {
        "id": "EvvCQlNfxsMr"
      },
      "execution_count": null,
      "outputs": []
    }
  ]
}