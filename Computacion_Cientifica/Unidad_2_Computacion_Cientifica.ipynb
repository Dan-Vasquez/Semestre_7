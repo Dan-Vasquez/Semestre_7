{
  "nbformat": 4,
  "nbformat_minor": 0,
  "metadata": {
    "colab": {
      "provenance": []
    },
    "kernelspec": {
      "name": "python3",
      "display_name": "Python 3"
    },
    "language_info": {
      "name": "python"
    }
  },
  "cells": [
    {
      "cell_type": "code",
      "execution_count": null,
      "metadata": {
        "id": "rLqR-XMkUPlX"
      },
      "outputs": [],
      "source": [
        "import numpy as np\n",
        "import math\n",
        "import matplotlib.pyplot as plt\n",
        "import sympy as sp"
      ]
    },
    {
      "cell_type": "code",
      "source": [
        "m = 1/100000 # mejor\n",
        "print(f\"{(m):.25f}\")\n",
        "\n",
        "m = 5/3      # peor\n",
        "print(f\"{(m):.25f}\")"
      ],
      "metadata": {
        "id": "Hu1UofqEVvsD",
        "colab": {
          "base_uri": "https://localhost:8080/"
        },
        "outputId": "81136012-8a8a-416d-c98d-9eea722da66c"
      },
      "execution_count": null,
      "outputs": [
        {
          "output_type": "stream",
          "name": "stdout",
          "text": [
            "0.0000100000000000000008180\n",
            "1.6666666666666667406815350\n"
          ]
        }
      ]
    },
    {
      "cell_type": "code",
      "source": [
        "def f1(x):\n",
        "  return (3.5*(x**2)) - (4.9 * x)\n",
        "\n",
        "def f2(x):\n",
        "  return x*((3.5*x) - 4.9)\n",
        "\n",
        "print(\"A\",f1(1/10000), \"B\", f2(1/10000))"
      ],
      "metadata": {
        "id": "ZGjzaBmSXojB",
        "colab": {
          "base_uri": "https://localhost:8080/"
        },
        "outputId": "2af75986-e1e8-4ee1-c8cf-8a9586eee650"
      },
      "execution_count": null,
      "outputs": [
        {
          "output_type": "stream",
          "name": "stdout",
          "text": [
            "A -0.0004899650000000001 B -0.0004899650000000001\n"
          ]
        }
      ]
    },
    {
      "cell_type": "code",
      "source": [
        "def f3(x, coeficientes):\n",
        "  ans = 0\n",
        "\n",
        "  for i in range(len(coeficientes) - 1):\n",
        "    ans = x * (ans + coeficientes[-(i + 1)])\n",
        "\n",
        "  ans += coeficientes[0]\n",
        "  print(ans)\n",
        "\n",
        "f3(2, [1,2,3,4,5])"
      ],
      "metadata": {
        "id": "skIg_WKJaIaR",
        "colab": {
          "base_uri": "https://localhost:8080/"
        },
        "outputId": "7a986660-5f19-4d79-ffdf-4a2384de4cc3"
      },
      "execution_count": null,
      "outputs": [
        {
          "output_type": "stream",
          "name": "stdout",
          "text": [
            "129\n"
          ]
        }
      ]
    },
    {
      "cell_type": "code",
      "source": [
        "def f4(real, aprox):\n",
        "  era = np.abs(real - aprox) * 100\n",
        "  if real == 0:\n",
        "    err = \"ERROR\"\n",
        "  else:\n",
        "    err = era / np.abs(real)\n",
        "  print(era, err)\n",
        "\n",
        "f4(0.3*10, 0.31*10)\n",
        "\n",
        "f4(0.3*10**(-3), 0.31*10**(-3))\n",
        "\n",
        "f4(0.3*10**(4), 0.31*10**(4))\n"
      ],
      "metadata": {
        "id": "Jf831WdWjafZ"
      },
      "execution_count": null,
      "outputs": []
    },
    {
      "cell_type": "code",
      "source": [
        "def f5(x, n):\n",
        "  su = 0\n",
        "  for i in range(0, n+1, 1):\n",
        "    su = su + (x ** i) / (math.factorial(i))\n",
        "  print(su)\n",
        "f5(5,1000)\n",
        "print(math.exp(5))\n",
        "\n",
        "def f6(a, b, m, n):\n",
        "  x = np.linspace(a,b,m)\n",
        "  y = []\n",
        "  for j in range(0, len(x), 1):\n",
        "    su = 0\n",
        "    for i in range(0, n+1, 1):\n",
        "      su = su + (x[j] ** i / np.math.factorial(i))\n",
        "    y.append(su)\n",
        "  return x, np.array(y)\n",
        "plt.figure(figsize = [2,2])\n",
        "[x, y] = f6(-1,2,100,2)\n",
        "plt.plot(x,y,\"r\", x, np.exp(x), \"b\")"
      ],
      "metadata": {
        "colab": {
          "base_uri": "https://localhost:8080/",
          "height": 341
        },
        "id": "BNPsUmJWmsj3",
        "outputId": "585a88c8-93fb-45c5-b372-8355a19a6cd3"
      },
      "execution_count": null,
      "outputs": [
        {
          "output_type": "stream",
          "name": "stdout",
          "text": [
            "148.41315910257657\n",
            "148.4131591025766\n"
          ]
        },
        {
          "output_type": "stream",
          "name": "stderr",
          "text": [
            "<ipython-input-6-9415a7c222e6>:15: DeprecationWarning: `np.math` is a deprecated alias for the standard library `math` module (Deprecated Numpy 1.25). Replace usages of `np.math` with `math`\n",
            "  su = su + (x[j] ** i / np.math.factorial(i))\n"
          ]
        },
        {
          "output_type": "execute_result",
          "data": {
            "text/plain": [
              "[<matplotlib.lines.Line2D at 0x7a50056a2aa0>,\n",
              " <matplotlib.lines.Line2D at 0x7a50056a2ad0>]"
            ]
          },
          "metadata": {},
          "execution_count": 6
        },
        {
          "output_type": "display_data",
          "data": {
            "text/plain": [
              "<Figure size 200x200 with 1 Axes>"
            ],
            "image/png": "[encoded data removed]"
          },
          "metadata": {}
        }
      ]
    }
  ]
}